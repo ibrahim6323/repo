{
 "cells": [
  {
   "cell_type": "code",
   "execution_count": 1,
   "id": "fb0c9ce2-8436-49f2-9e8d-6c474c9bc50b",
   "metadata": {},
   "outputs": [
    {
     "name": "stdout",
     "output_type": "stream",
     "text": [
      "Hollo python\n"
     ]
    }
   ],
   "source": [
    "print (\"Hollo python\")\n"
   ]
  },
  {
   "cell_type": "code",
   "execution_count": 11,
   "id": "e61c0a70-9919-4a0d-a78f-01e0e0f271b0",
   "metadata": {},
   "outputs": [
    {
     "name": "stdin",
     "output_type": "stream",
     "text": [
      "enter your name ibrahim\n"
     ]
    },
    {
     "name": "stdout",
     "output_type": "stream",
     "text": [
      "Welcom ibrahim\n"
     ]
    }
   ],
   "source": [
    "user_name=input(\"enter your name\")\n",
    "print(\"Welcom\",user_name)"
   ]
  },
  {
   "cell_type": "code",
   "execution_count": 10,
   "id": "90ff9188-d7ed-4540-9b44-144779af5971",
   "metadata": {},
   "outputs": [
    {
     "name": "stdout",
     "output_type": "stream",
     "text": [
      "ibrahim\n"
     ]
    }
   ],
   "source": [
    "def my_name ():\n",
    "    print (\"ibrahim\")\n",
    "my_name()"
   ]
  },
  {
   "cell_type": "code",
   "execution_count": 21,
   "id": "985fbd6c-8b26-4c9f-8cd0-9d21f4b35912",
   "metadata": {},
   "outputs": [
    {
     "name": "stdout",
     "output_type": "stream",
     "text": [
      "12\n"
     ]
    }
   ],
   "source": [
    "def  sum (x , y):\n",
    "    result = x + y\n",
    "    print(result)\n",
    "sum(3 , 9)"
   ]
  },
  {
   "cell_type": "code",
   "execution_count": 1,
   "id": "0dabb5a2-e633-4967-adb5-ce5c4779fd59",
   "metadata": {},
   "outputs": [
    {
     "ename": "IndentationError",
     "evalue": "unexpected indent (2395135930.py, line 12)",
     "output_type": "error",
     "traceback": [
      "\u001b[1;36m  Cell \u001b[1;32mIn[1], line 12\u001b[1;36m\u001b[0m\n\u001b[1;33m    return num1 / num2\u001b[0m\n\u001b[1;37m    ^\u001b[0m\n\u001b[1;31mIndentationError\u001b[0m\u001b[1;31m:\u001b[0m unexpected indent\n"
     ]
    }
   ],
   "source": [
    "def calculatoer(num1,num2):\n",
    "    num1=float(input(\"Enter num1\"))\n",
    "    num2=float(input(\"Enter num2\"))\n",
    "    operation = input(\"chose the operation(+,-,*,/,//,**,%):\")\n",
    "    if operation== '+':\n",
    "        return num1 + num2\n",
    "    elif operation== '-':\n",
    "        return num1 - num2\n",
    "    elif operation== '*':\n",
    "        return num1 * num2\n",
    "    elif operation== '/':S\n",
    "        return num1 / num2\n",
    "    elif operation== '//':\n",
    "        return num1 // num2\n",
    "    elif operation== '**':\n",
    "        return num1 ** num2\n",
    "    elif operation== '%':\n",
    "        return num1 % num2\n",
    "    else :\n",
    "        print('Error')\n",
    "\n",
    "calculatoer(0,0)\n",
    "                "
   ]
  },
  {
   "cell_type": "code",
   "execution_count": 39,
   "id": "ced0071f-4d07-48ce-8761-e5c22b21554c",
   "metadata": {},
   "outputs": [
    {
     "name": "stdout",
     "output_type": "stream",
     "text": [
      "HI\n"
     ]
    }
   ],
   "source": [
    "'''\n",
    "ggggggggggg\n",
    "aaaaaaaaaaa\n",
    "nnnnnnnnnnn\n",
    "'''\n",
    "print(\"HI\")\n"
   ]
  },
  {
   "cell_type": "code",
   "execution_count": 5,
   "id": "c1fb6d96-d9f0-4a4d-98b1-02e01d9c876b",
   "metadata": {},
   "outputs": [
    {
     "name": "stdout",
     "output_type": "stream",
     "text": [
      "hello, ibrahim! you are 17 years old\n"
     ]
    }
   ],
   "source": [
    "name = 'ibrahim'\n",
    "age = 17\n",
    "print ('hello, ' +name +\"! you are \"+ str(age)+\" years old\" )"
   ]
  },
  {
   "cell_type": "code",
   "execution_count": 9,
   "id": "75bf80c3-dc9a-4890-93d6-024dd9d2abc4",
   "metadata": {},
   "outputs": [
    {
     "name": "stdout",
     "output_type": "stream",
     "text": [
      "hello ibrahim \n",
      "  you are 17 years old\n"
     ]
    }
   ],
   "source": [
    "print (f\"hello {name} \\n  you are {age} years old\" )"
   ]
  },
  {
   "cell_type": "code",
   "execution_count": 8,
   "id": "15a3a0e7-a747-4a3b-b396-8e79dcc15310",
   "metadata": {},
   "outputs": [
    {
     "name": "stdout",
     "output_type": "stream",
     "text": [
      "hello ibrahim \n",
      ", you are 17 years old \n"
     ]
    }
   ],
   "source": [
    "z= \"hello {} \\n, you are {} years old \" . format(name ,age)\n",
    "print (z)"
   ]
  },
  {
   "cell_type": "code",
   "execution_count": 17,
   "id": "505ec352-f209-453d-8ffa-95d24d3feccc",
   "metadata": {},
   "outputs": [
    {
     "name": "stdin",
     "output_type": "stream",
     "text": [
      "enter num1 48\n",
      "enter num2 45\n"
     ]
    },
    {
     "name": "stdout",
     "output_type": "stream",
     "text": [
      "3\n"
     ]
    }
   ],
   "source": [
    "num1 =int(input(\"enter num1\"))\n",
    "num2 =int(input(\"enter num2\"))\n",
    "z=num1 - num2 \n",
    "print (z)"
   ]
  },
  {
   "cell_type": "code",
   "execution_count": 34,
   "id": "793e2252-4070-44da-bb7a-f906c2ae5b5e",
   "metadata": {},
   "outputs": [
    {
     "name": "stdout",
     "output_type": "stream",
     "text": [
      "*\n",
      "*\t*\n",
      "*\t*\t*\n",
      "*\t*\n",
      "*\n"
     ]
    }
   ],
   "source": [
    "print(\"*\\n*\\t*\\n*\\t*\\t*\\n*\\t*\\n*\")\n",
    "   "
   ]
  },
  {
   "cell_type": "code",
   "execution_count": 1,
   "id": "494a14c7-4504-47c5-9e7a-9d6448fea3ee",
   "metadata": {},
   "outputs": [
    {
     "name": "stdout",
     "output_type": "stream",
     "text": [
      "first num 10\n"
     ]
    }
   ],
   "source": [
    "x = 10\n",
    "print(\"first num\" , x)"
   ]
  },
  {
   "cell_type": "code",
   "execution_count": 4,
   "id": "6c71e179-1326-4223-af52-2e99924d7901",
   "metadata": {},
   "outputs": [
    {
     "name": "stdout",
     "output_type": "stream",
     "text": [
      "20\n"
     ]
    },
    {
     "data": {
      "text/plain": [
       "int"
      ]
     },
     "execution_count": 4,
     "metadata": {},
     "output_type": "execute_result"
    }
   ],
   "source": [
    "x=20\n",
    "z=float (x)\n",
    "print(z)\n",
    "type(z)"
   ]
  },
  {
   "cell_type": "code",
   "execution_count": 5,
   "id": "ed475310-1306-4fc3-ade0-ce38adb9b6c0",
   "metadata": {},
   "outputs": [
    {
     "data": {
      "text/plain": [
       "11"
      ]
     },
     "execution_count": 5,
     "metadata": {},
     "output_type": "execute_result"
    }
   ],
   "source": [
    "x=8\n",
    "x+=3\n",
    "x"
   ]
  },
  {
   "cell_type": "code",
   "execution_count": 7,
   "id": "eff2f6fe-b6f1-472b-9cd0-aef36b9b6052",
   "metadata": {},
   "outputs": [
    {
     "data": {
      "text/plain": [
       "275"
      ]
     },
     "execution_count": 7,
     "metadata": {},
     "output_type": "execute_result"
    }
   ],
   "source": [
    "x*=5\n",
    "x"
   ]
  },
  {
   "cell_type": "code",
   "execution_count": 8,
   "id": "311998a4-542d-461a-b37b-ae082d89a3b5",
   "metadata": {},
   "outputs": [
    {
     "data": {
      "text/plain": [
       "270"
      ]
     },
     "execution_count": 8,
     "metadata": {},
     "output_type": "execute_result"
    }
   ],
   "source": [
    "x-=5\n",
    "x"
   ]
  },
  {
   "cell_type": "code",
   "execution_count": 10,
   "id": "a2e944c1-1a14-4d6b-bbfa-d709a32ce419",
   "metadata": {},
   "outputs": [
    {
     "data": {
      "text/plain": [
       "6"
      ]
     },
     "execution_count": 10,
     "metadata": {},
     "output_type": "execute_result"
    }
   ],
   "source": [
    "x%=8\n",
    "x"
   ]
  },
  {
   "cell_type": "code",
   "execution_count": 4,
   "id": "2d1f40af-0604-4f3e-876d-61f4bcae56d6",
   "metadata": {},
   "outputs": [],
   "source": [
    "x=6\n",
    "y=8"
   ]
  },
  {
   "cell_type": "code",
   "execution_count": 5,
   "id": "46bb5183-1bd9-4858-b7db-6a936cc9a7bf",
   "metadata": {},
   "outputs": [
    {
     "data": {
      "text/plain": [
       "False"
      ]
     },
     "execution_count": 5,
     "metadata": {},
     "output_type": "execute_result"
    }
   ],
   "source": [
    "x==y"
   ]
  },
  {
   "cell_type": "code",
   "execution_count": 6,
   "id": "ae7e4793-a0c1-45bf-b85d-c7042ca4448c",
   "metadata": {},
   "outputs": [
    {
     "data": {
      "text/plain": [
       "True"
      ]
     },
     "execution_count": 6,
     "metadata": {},
     "output_type": "execute_result"
    }
   ],
   "source": [
    "x<=y"
   ]
  },
  {
   "cell_type": "code",
   "execution_count": 7,
   "id": "3bd26ba4-e3fc-433f-9757-715117132722",
   "metadata": {},
   "outputs": [
    {
     "data": {
      "text/plain": [
       "False"
      ]
     },
     "execution_count": 7,
     "metadata": {},
     "output_type": "execute_result"
    }
   ],
   "source": [
    "x>=y"
   ]
  },
  {
   "cell_type": "code",
   "execution_count": 8,
   "id": "9f1a3b53-6c5c-4497-8907-71798db3130a",
   "metadata": {},
   "outputs": [
    {
     "data": {
      "text/plain": [
       "True"
      ]
     },
     "execution_count": 8,
     "metadata": {},
     "output_type": "execute_result"
    }
   ],
   "source": [
    "x<5 or x<10"
   ]
  },
  {
   "cell_type": "code",
   "execution_count": 9,
   "id": "4d68b8d8-2f43-4ff2-90ce-159c54bb3b69",
   "metadata": {},
   "outputs": [
    {
     "data": {
      "text/plain": [
       "False"
      ]
     },
     "execution_count": 9,
     "metadata": {},
     "output_type": "execute_result"
    }
   ],
   "source": [
    "(x>5 and x>10)"
   ]
  },
  {
   "cell_type": "code",
   "execution_count": 10,
   "id": "8f456b12-5a12-449f-9919-c18e2014f315",
   "metadata": {},
   "outputs": [
    {
     "data": {
      "text/plain": [
       "True"
      ]
     },
     "execution_count": 10,
     "metadata": {},
     "output_type": "execute_result"
    }
   ],
   "source": [
    "not(x>5 and x>10)"
   ]
  },
  {
   "cell_type": "code",
   "execution_count": 11,
   "id": "da3a862e-9e4f-4727-a5fc-cf5a74057f2f",
   "metadata": {},
   "outputs": [
    {
     "data": {
      "text/plain": [
       "True"
      ]
     },
     "execution_count": 11,
     "metadata": {},
     "output_type": "execute_result"
    }
   ],
   "source": [
    "(x > 5 or x > 10)"
   ]
  },
  {
   "cell_type": "code",
   "execution_count": 12,
   "id": "4b1a4341-f4ff-4999-9051-655b24cfee38",
   "metadata": {},
   "outputs": [
    {
     "data": {
      "text/plain": [
       "False"
      ]
     },
     "execution_count": 12,
     "metadata": {},
     "output_type": "execute_result"
    }
   ],
   "source": [
    "not(x > 5 or x > 10)"
   ]
  },
  {
   "cell_type": "code",
   "execution_count": 17,
   "id": "d233d416-ec26-4d11-8d68-dac17a833914",
   "metadata": {},
   "outputs": [
    {
     "data": {
      "text/plain": [
       "'apple'"
      ]
     },
     "execution_count": 17,
     "metadata": {},
     "output_type": "execute_result"
    }
   ],
   "source": [
    "list_1= ['apple' ,'orange','banana']\n",
    "list_1[0]\n"
   ]
  },
  {
   "cell_type": "code",
   "execution_count": 18,
   "id": "4e404a2b-5ce1-487f-8106-cf642fcc58a5",
   "metadata": {},
   "outputs": [
    {
     "data": {
      "text/plain": [
       "['tea', 'cofe', 'jouis']"
      ]
     },
     "execution_count": 18,
     "metadata": {},
     "output_type": "execute_result"
    }
   ],
   "source": [
    "list_2= ['tea' ,'cofe','jouis']\n",
    "list_2"
   ]
  },
  {
   "cell_type": "code",
   "execution_count": 15,
   "id": "d10abe75-625e-4aa1-ba51-fc89657edaeb",
   "metadata": {},
   "outputs": [
    {
     "data": {
      "text/plain": [
       "'orange'"
      ]
     },
     "execution_count": 15,
     "metadata": {},
     "output_type": "execute_result"
    }
   ],
   "source": [
    "list_1[1]"
   ]
  },
  {
   "cell_type": "code",
   "execution_count": 16,
   "id": "f810c2f7-13ec-493a-9dca-13f4a51d6aa8",
   "metadata": {},
   "outputs": [
    {
     "data": {
      "text/plain": [
       "'banana'"
      ]
     },
     "execution_count": 16,
     "metadata": {},
     "output_type": "execute_result"
    }
   ],
   "source": [
    "list_1[2]"
   ]
  },
  {
   "cell_type": "code",
   "execution_count": 17,
   "id": "bcbb5767-a5a3-4860-bcfd-6336c10d5fdb",
   "metadata": {},
   "outputs": [],
   "source": [
    "list_1.append('milk')"
   ]
  },
  {
   "cell_type": "code",
   "execution_count": 18,
   "id": "55f57796-acf1-4bf2-af76-5d05ef7fecaa",
   "metadata": {},
   "outputs": [
    {
     "data": {
      "text/plain": [
       "['apple', 'orange', 'banana', 'milk']"
      ]
     },
     "execution_count": 18,
     "metadata": {},
     "output_type": "execute_result"
    }
   ],
   "source": [
    "list_1"
   ]
  },
  {
   "cell_type": "code",
   "execution_count": 19,
   "id": "ed27e11d-8c82-4b1a-9091-c492f9876e78",
   "metadata": {},
   "outputs": [
    {
     "data": {
      "text/plain": [
       "['basbosa', 'apple', 'orange', 'banana', 'milk']"
      ]
     },
     "execution_count": 19,
     "metadata": {},
     "output_type": "execute_result"
    }
   ],
   "source": [
    "list_1.insert (0,\"basbosa\")\n",
    "list_1"
   ]
  },
  {
   "cell_type": "code",
   "execution_count": 20,
   "id": "d130a4ca-ea35-4591-aa46-6d193de20848",
   "metadata": {},
   "outputs": [
    {
     "data": {
      "text/plain": [
       "['basbosa', 'orange', 'banana', 'milk']"
      ]
     },
     "execution_count": 20,
     "metadata": {},
     "output_type": "execute_result"
    }
   ],
   "source": [
    "list_1.remove('apple')\n",
    "list_1"
   ]
  },
  {
   "cell_type": "code",
   "execution_count": 22,
   "id": "f2420d09-6c36-48ec-a406-39dce56371b7",
   "metadata": {},
   "outputs": [
    {
     "data": {
      "text/plain": [
       "'orange'"
      ]
     },
     "execution_count": 22,
     "metadata": {},
     "output_type": "execute_result"
    }
   ],
   "source": [
    "list_1.pop(1)\n"
   ]
  },
  {
   "cell_type": "code",
   "execution_count": 23,
   "id": "9399fe60-1a52-43b4-b3d2-fad17196e360",
   "metadata": {},
   "outputs": [
    {
     "data": {
      "text/plain": [
       "['basbosa', 'banana', 'milk']"
      ]
     },
     "execution_count": 23,
     "metadata": {},
     "output_type": "execute_result"
    }
   ],
   "source": [
    "list_1"
   ]
  },
  {
   "cell_type": "code",
   "execution_count": 26,
   "id": "7741db7a-803c-4741-a89a-9b345805b772",
   "metadata": {},
   "outputs": [
    {
     "data": {
      "text/plain": [
       "['basbosa', 'banana', 'milk', 'orang']"
      ]
     },
     "execution_count": 26,
     "metadata": {},
     "output_type": "execute_result"
    }
   ],
   "source": [
    "list_1.add('orang')\n",
    "list_1"
   ]
  },
  {
   "cell_type": "code",
   "execution_count": 20,
   "id": "2449fae8-867b-4f4d-b74c-7e10efe75d4b",
   "metadata": {},
   "outputs": [
    {
     "data": {
      "text/plain": [
       "['apple', 'orange', 'banana', 'tea', 'cofe', 'jouis', 'tea', 'cofe', 'jouis']"
      ]
     },
     "execution_count": 20,
     "metadata": {},
     "output_type": "execute_result"
    }
   ],
   "source": [
    "list_1.extend(list_2)\n",
    "list_1"
   ]
  },
  {
   "cell_type": "code",
   "execution_count": 5,
   "id": "e3d69bdd-70ce-4b50-80db-61edf237eff0",
   "metadata": {},
   "outputs": [
    {
     "name": "stdout",
     "output_type": "stream",
     "text": [
      "appleadded.\n",
      "milkadded.\n",
      "orangadded.\n",
      "banannaadded.\n",
      "basbosaadded.\n",
      "Total amount:260 EG\n",
      "milkremoved.\n",
      "Total amount:215 EG\n"
     ]
    },
    {
     "ename": "NameError",
     "evalue": "name 'cart_clear' is not defined",
     "output_type": "error",
     "traceback": [
      "\u001b[1;31m---------------------------------------------------------------------------\u001b[0m",
      "\u001b[1;31mNameError\u001b[0m                                 Traceback (most recent call last)",
      "Cell \u001b[1;32mIn[5], line 31\u001b[0m\n\u001b[0;32m     29\u001b[0m remove_item(\u001b[38;5;124m\"\u001b[39m\u001b[38;5;124mmilk\u001b[39m\u001b[38;5;124m\"\u001b[39m)\n\u001b[0;32m     30\u001b[0m print_total()\n\u001b[1;32m---> 31\u001b[0m \u001b[43mclear_cart\u001b[49m\u001b[43m(\u001b[49m\u001b[43m)\u001b[49m\n",
      "Cell \u001b[1;32mIn[5], line 19\u001b[0m, in \u001b[0;36mclear_cart\u001b[1;34m()\u001b[0m\n\u001b[0;32m     18\u001b[0m \u001b[38;5;28;01mdef\u001b[39;00m \u001b[38;5;21mclear_cart\u001b[39m():\n\u001b[1;32m---> 19\u001b[0m     \u001b[43mcart_clear\u001b[49m()\n\u001b[0;32m     20\u001b[0m     \u001b[38;5;28mprint\u001b[39m(\u001b[38;5;124m\"\u001b[39m\u001b[38;5;124mcart cleared.\u001b[39m\u001b[38;5;124m\"\u001b[39m)\n",
      "\u001b[1;31mNameError\u001b[0m: name 'cart_clear' is not defined"
     ]
    }
   ],
   "source": [
    "cart ={}\n",
    "\n",
    "def add_item(item,price):\n",
    "    cart[item]=price\n",
    "    print(f\"{item}added.\")\n",
    "\n",
    "def remove_item(item):\n",
    "    if item in cart:\n",
    "        del cart[item]\n",
    "        print(f\"{item}removed.\")\n",
    "    else:\n",
    "        print(f\"{item}not found in the cart.\")\n",
    "\n",
    "def print_total():\n",
    "    total = sum(cart.values())\n",
    "    print(f\"Total amount:{total} EG\")\n",
    "\n",
    "def clear_cart():\n",
    "    cart_clear()\n",
    "    print(\"cart cleared.\")\n",
    "\n",
    "add_item(\"apple\",80)\n",
    "add_item(\"milk\",45)\n",
    "add_item(\"orang\",20)\n",
    "add_item(\"bananna\",25)\n",
    "add_item(\"basbosa\",90)\n",
    "print_total()\n",
    "\n",
    "remove_item(\"milk\")\n",
    "print_total()"
   ]
  },
  {
   "cell_type": "code",
   "execution_count": 23,
   "id": "4df2795a-6dd7-40e6-8b2a-98ffdf37b23e",
   "metadata": {},
   "outputs": [
    {
     "name": "stdout",
     "output_type": "stream",
     "text": [
      "[1, 6, 20, 34, 40, 90]\n"
     ]
    }
   ],
   "source": [
    "y=[1,6,90,34,20,40]\n",
    "y.sort(reverse=False)\n",
    "print(y)"
   ]
  },
  {
   "cell_type": "code",
   "execution_count": 26,
   "id": "a5109bb9-19c1-4284-a4a3-818097d5e742",
   "metadata": {},
   "outputs": [
    {
     "name": "stdout",
     "output_type": "stream",
     "text": [
      "[22, 78, 63, 52, 23, 10]\n"
     ]
    }
   ],
   "source": [
    "z=[10,23,52,63,78,22]\n",
    "z.reverse()\n",
    "print(z)"
   ]
  },
  {
   "cell_type": "code",
   "execution_count": 27,
   "id": "e3a4865e-3d60-42b2-840c-51864129195a",
   "metadata": {},
   "outputs": [],
   "source": [
    "coordinates=(3,7)\n",
    "fruites=('apple' ,'orange','banana')"
   ]
  },
  {
   "cell_type": "code",
   "execution_count": 35,
   "id": "10b762c2-ce7d-4464-bed2-0108d88d627f",
   "metadata": {},
   "outputs": [
    {
     "data": {
      "text/plain": [
       "'ibrahim'"
      ]
     },
     "execution_count": 35,
     "metadata": {},
     "output_type": "execute_result"
    }
   ],
   "source": [
    "person={\"name\":\"ibrahim\",\"age\":17}\n",
    "name"
   ]
  },
  {
   "cell_type": "code",
   "execution_count": 36,
   "id": "4b842427-0b57-4a17-ae7b-433de8fc3ef5",
   "metadata": {},
   "outputs": [
    {
     "data": {
      "text/plain": [
       "17"
      ]
     },
     "execution_count": 36,
     "metadata": {},
     "output_type": "execute_result"
    }
   ],
   "source": [
    "age"
   ]
  },
  {
   "cell_type": "code",
   "execution_count": 52,
   "id": "eecc30fa-2b45-4c02-bd35-1a09345fbfac",
   "metadata": {},
   "outputs": [
    {
     "data": {
      "text/plain": [
       "1.00794"
      ]
     },
     "execution_count": 52,
     "metadata": {},
     "output_type": "execute_result"
    }
   ],
   "source": [
    "elements ={\"hydrogen\":{\"number\":1,\"weight\":1.00794,\"symbol\":\"H\"},\n",
    "           \"helium\":{\"number\":2,\"weight\":4.00260,\"symbol\":\"He\"}}  \n",
    "elements['hydrogen'][\"weight\"]"
   ]
  },
  {
   "cell_type": "code",
   "execution_count": 53,
   "id": "5b630980-4f9f-4252-ab44-342d65aa2f5c",
   "metadata": {},
   "outputs": [],
   "source": [
    "verse = \"if you can keep your haed when all about you are loseng theirs and blaming it on you     if you can tru st yourself when all men doubt you      but make allowance for their doubting too     if you can wait an d not be tired by waiting    or being lied about   \""
   ]
  },
  {
   "cell_type": "code",
   "execution_count": 64,
   "id": "d96d99e8-bc1e-4ca2-abf8-83977ff53075",
   "metadata": {},
   "outputs": [
    {
     "name": "stdout",
     "output_type": "stream",
     "text": [
      "['if', 'you', 'can', 'keep', 'your', 'haed', 'when', 'all', 'about', 'you', 'are', 'loseng', 'theirs', 'and', 'blaming', 'it', 'on', 'you', 'if', 'you', 'can', 'tru', 'st', 'yourself', 'when', 'all', 'men', 'doubt', 'you', 'but', 'make', 'allowance', 'for', 'their', 'doubting', 'too', 'if', 'you', 'can', 'wait', 'an', 'd', 'not', 'be', 'tired', 'by', 'waiting', 'or', 'being', 'lied', 'about']\n"
     ]
    }
   ],
   "source": [
    "print(verse.split())"
   ]
  },
  {
   "cell_type": "code",
   "execution_count": 71,
   "id": "4d52ee57-27b9-43b8-aa84-190161eef9ef",
   "metadata": {},
   "outputs": [
    {
     "name": "stdout",
     "output_type": "stream",
     "text": [
      "{'blaming', 'yourself', 'but', 'for', 'an', 'when', 'it', 'st', 'allowance', 'd', 'being', 'loseng', 'doubting', 'tru', 'about', 'can', 'by', 'are', 'be', 'lied', 'on', 'keep', 'men', 'their', 'all', 'haed', 'make', 'or', 'not', 'too', 'theirs', 'doubt', 'you', 'tired', 'wait', 'your', 'if', 'and', 'waiting'}\n"
     ]
    }
   ],
   "source": [
    "verse_list = verse.split()\n",
    "verse_set = set(verse_list)\n",
    "print(verse_set)"
   ]
  },
  {
   "cell_type": "code",
   "execution_count": 76,
   "id": "aec6ba16-9607-494b-89dd-b6b46dec1693",
   "metadata": {},
   "outputs": [
    {
     "name": "stdout",
     "output_type": "stream",
     "text": [
      "39\n"
     ]
    }
   ],
   "source": [
    "unique_words=verse_set\n",
    "unique_words=(len(verse_set))\n",
    "print(unique_words)"
   ]
  },
  {
   "cell_type": "code",
   "execution_count": 97,
   "id": "ba12edef-ee84-4c48-bb7b-e578f979c3f3",
   "metadata": {},
   "outputs": [
    {
     "name": "stdin",
     "output_type": "stream",
     "text": [
      "enter the weight 53\n",
      "enter the height 1.76\n"
     ]
    },
    {
     "name": "stdout",
     "output_type": "stream",
     "text": [
      "17.110020661157026 not normal \n"
     ]
    }
   ],
   "source": [
    "weight=float(input(\"enter the weight\"))\n",
    "height=float(input(\"enter the height\"))\n",
    "BMI = weight/height**2\n",
    "if 18.5 <= BMI < 25:\n",
    "    print (f\"{BMI} normal\") \n",
    "else:\n",
    "    print(f\"{BMI} not normal \")"
   ]
  },
  {
   "cell_type": "code",
   "execution_count": 3,
   "id": "98df7156-7e0e-41e6-98a9-9527d8c6616c",
   "metadata": {},
   "outputs": [
    {
     "name": "stdout",
     "output_type": "stream",
     "text": [
      "{'if': 3, 'you': 6, 'can': 3, 'keep': 1, 'your': 1, 'head': 1, 'when': 2, 'al 1': 2, 'about': 2, 'are': 1, 'losing': 1, 'theirs': 1, 'and': 3, 'blaming': 1, 'it': 1, 'on': 1, 'trust': 1, 'yourself': 1, 'men': 1, 'doubt': 1, 'but': 1, 'm ake': 1, 'allowance': 1, 'for': 1, 'their': 1, 'doubting': 1, 'too': 3, 'wait': 1, 'not': 1, 'be': 1, 'tired': 1, 'by': 1, 'waiting': 1, 'or': 2, 'being': 2, 'lied': 1, \"don't\": 3, 'deal': 1, 'in': 1, 'lies': 1, 'hated': 1, 'give': 1, 'w ay': 1, 'to': 1, 'hating': 1, 'yet': 1, 'look': 1, 'good': 1, 'nor': 1} \n",
      "\n"
     ]
    }
   ],
   "source": [
    "verse_dict = {'if': 3, 'you': 6, 'can': 3, 'keep': 1, 'your': 1, 'head': 1, 'when': 2, 'al 1': 2, 'about': 2, 'are': 1, 'losing': 1, 'theirs': 1, 'and': 3, 'blaming': 1, 'it': 1, 'on': 1, 'trust': 1, 'yourself': 1, 'men': 1, 'doubt': 1, 'but': 1, 'm ake': 1, 'allowance': 1, 'for': 1, 'their': 1, 'doubting': 1, 'too': 3, 'wait': 1, 'not': 1, 'be': 1, 'tired': 1, 'by': 1, 'waiting': 1, 'or': 2, 'being': 2, 'lied': 1, \"don't\": 3, 'deal': 1, 'in': 1, 'lies': 1, 'hated': 1, 'give': 1, 'w ay': 1, 'to': 1, 'hating': 1, 'yet': 1, 'look': 1, 'good': 1, 'nor': 1}\n",
    "\n",
    "print(verse_dict, '\\n')"
   ]
  },
  {
   "cell_type": "code",
   "execution_count": 4,
   "id": "240dbf7c-c5e7-4c58-8942-c9e3575870ce",
   "metadata": {},
   "outputs": [
    {
     "name": "stdout",
     "output_type": "stream",
     "text": [
      "49\n"
     ]
    }
   ],
   "source": [
    "unique_words=verse_dict\n",
    "unique_words=(len(verse_dict))\n",
    "print(unique_words)"
   ]
  },
  {
   "cell_type": "code",
   "execution_count": 6,
   "id": "140d69a1-1fed-432c-869f-14cfdc240457",
   "metadata": {},
   "outputs": [
    {
     "name": "stdout",
     "output_type": "stream",
     "text": [
      "False\n"
     ]
    }
   ],
   "source": [
    "contains_breathe = \"breathe\"in verse_dict\n",
    "print(contains_breathe)"
   ]
  },
  {
   "cell_type": "code",
   "execution_count": 4,
   "id": "ddb3c3b5-9555-4ae5-b9c3-b8f6c75839a9",
   "metadata": {},
   "outputs": [
    {
     "name": "stdout",
     "output_type": "stream",
     "text": [
      "21\n"
     ]
    }
   ],
   "source": [
    "numbers=[]\n",
    "current=1\n",
    "total_sum=0\n",
    "while total_sum <= 200:\n",
    "    numbers.append(current)\n",
    "    total_sum += current\n",
    "    current +=1\n",
    "print ()"
   ]
  },
  {
   "cell_type": "code",
   "execution_count": null,
   "id": "d7aa06e8-be08-4be6-bcf0-352ee5609c04",
   "metadata": {},
   "outputs": [],
   "source": [
    "numbers=[10,25,9,13,45,39]\n",
    "max_temp = numbers[0]\n",
    "for i in numbers:\n",
    "    if i > max_temp:\n",
    "       max_temp=i \n",
    "print(max_temp)\n",
    "        "
   ]
  },
  {
   "cell_type": "code",
   "execution_count": 9,
   "id": "65fbd200-2a07-4eb1-be2a-e97f65b69087",
   "metadata": {},
   "outputs": [
    {
     "name": "stdout",
     "output_type": "stream",
     "text": [
      "['joey_tribbiani', 'monica_geller', 'chandler_bing', 'phoebe_buffay']\n"
     ]
    }
   ],
   "source": [
    "names = [\"Joey Tribbiani\", 'Monica Geller', 'Chandler Bing', 'Phoebe Buffay']\n",
    "usernames = []\n",
    "\n",
    "for name in names:\n",
    "    name = name.lower().replace(\" \",\"_\") \n",
    "    usernames.append(name)\n",
    "    \n",
    "print(usernames)"
   ]
  },
  {
   "cell_type": "code",
   "execution_count": 2,
   "id": "e4c9df3d-54a1-4555-8db0-08ed1db6da19",
   "metadata": {},
   "outputs": [
    {
     "name": "stdout",
     "output_type": "stream",
     "text": [
      "['joey_tribbiani', 'monica_geller', 'chandler_bing', 'phoebe_buffay']\n"
     ]
    }
   ],
   "source": [
    "names = [\"Joey Tribbiani\", 'Monica Geller', 'Chandler Bing', 'Phoebe Buffay']\n",
    "\n",
    "for i in range(len(names)):\n",
    "    names[i]=names[i].lower().replace(\" \",\"_\")\n",
    "\n",
    "print(names)"
   ]
  },
  {
   "cell_type": "code",
   "execution_count": 6,
   "id": "75b89cc1-f516-414a-81d1-3cf918d76089",
   "metadata": {},
   "outputs": [
    {
     "name": "stdout",
     "output_type": "stream",
     "text": [
      "Joey Tribbiani | Monica Geller\n",
      "Chandler Bing | Phoebe Buffay\n"
     ]
    }
   ],
   "source": [
    "cast = {\"Joey Tribbiani\":'Monica Geller',\n",
    "         'Chandler Bing': 'Phoebe Buffay',\n",
    "        }\n",
    "\n",
    "for key , value in cast.items():\n",
    "    print(key,\"|\",value)"
   ]
  },
  {
   "cell_type": "code",
   "execution_count": 9,
   "id": "37530565-e6c6-4bd9-b779-68768f7fcf02",
   "metadata": {},
   "outputs": [
    {
     "name": "stdout",
     "output_type": "stream",
     "text": [
      "23\n",
      "11\n"
     ]
    }
   ],
   "source": [
    "result_1 = 0\n",
    "result_2 = 0\n",
    "basket_items = {'apples': 4, 'oranges': 19, 'kites': 3, 'sandwic': 8}\n",
    "fruits = ['apples', 'oranges', 'pears', 'peaches', 'grapes', 'bananas']\n",
    "\n",
    "for key , value in basket_items.items():\n",
    "    if key in fruits:\n",
    "        result_1 += value\n",
    "    else:\n",
    "        result_2 += value\n",
    "\n",
    "print(result_1)\n",
    "print(result_2)"
   ]
  },
  {
   "cell_type": "code",
   "execution_count": null,
   "id": "43c13c37-7877-4fe0-bcb6-0ec795134913",
   "metadata": {},
   "outputs": [
    {
     "name": "stdin",
     "output_type": "stream",
     "text": [
      "Enter num1 9\n",
      "Enter num2 0\n",
      "chose the operation(+,-,*,/,//,**,%): /\n"
     ]
    }
   ],
   "source": [
    "def calculatoer(num1,num2):\n",
    "    num1=float(input(\"Enter num1\"))\n",
    "    num2=float(input(\"Enter num2\"))\n",
    "    operation = input(\"chose the operation(+,-,*,/,//,**,%):\")\n",
    "    if operation== '+':\n",
    "       return num1 + num2\n",
    "    elif operation== '-':\n",
    "       return num1 - num2\n",
    "    elif operation== '*':\n",
    "       return num1 * num2\n",
    "    elif operation== '/':\n",
    "        while num2==0:\n",
    "            num2=float(input(\"error : Enter num2\"))\n",
    "        print (num1 / num2)\n",
    "    elif operation== '//':\n",
    "       return num1 // num2\n",
    "    elif operation== '**':\n",
    "       return num1 ** num2\n",
    "    elif operation== '%':\n",
    "       return num1 % num2\n",
    "    else :\n",
    "        print('Error')\n",
    "\n",
    "calculatoer(0,0)"
   ]
  },
  {
   "cell_type": "code",
   "execution_count": 21,
   "id": "eb741cf5-178d-4bab-afcc-7a5578422a41",
   "metadata": {},
   "outputs": [
    {
     "name": "stdin",
     "output_type": "stream",
     "text": [
      "enter number 1 : 7\n"
     ]
    },
    {
     "data": {
      "text/plain": [
       "21.0"
      ]
     },
     "execution_count": 21,
     "metadata": {},
     "output_type": "execute_result"
    }
   ],
   "source": [
    "num1=float(input(\"enter number 1 :\"))\n",
    "\n",
    "num1 +9\n",
    "num1 -9\n",
    "num1 *2\n",
    "num1 /3 \n",
    "num1 %5\n",
    "num1 *3"
   ]
  },
  {
   "cell_type": "code",
   "execution_count": 23,
   "id": "675a850b-8872-4832-9527-9048e819925c",
   "metadata": {},
   "outputs": [
    {
     "name": "stdout",
     "output_type": "stream",
     "text": [
      "1\n",
      "6\n",
      "11\n",
      "16\n",
      "21\n",
      "26\n",
      "31\n",
      "36\n",
      "41\n",
      "46\n"
     ]
    }
   ],
   "source": [
    "number = 1\n",
    "\n",
    "while number <= 50:\n",
    "    print (number)\n",
    "    number +=5"
   ]
  },
  {
   "cell_type": "code",
   "execution_count": 26,
   "id": "654239d3-774d-4549-8b40-033680d77d8d",
   "metadata": {},
   "outputs": [
    {
     "name": "stdout",
     "output_type": "stream",
     "text": [
      "1\n",
      "2\n",
      "4\n",
      "5\n"
     ]
    }
   ],
   "source": [
    "numbers =[1,2,3,4,5]\n",
    "\n",
    "for number in numbers :\n",
    "    if number ==3 :\n",
    "        continue\n",
    "    print (number)"
   ]
  },
  {
   "cell_type": "code",
   "execution_count": null,
   "id": "5fcf23b3-2460-420d-ae49-c892243645e8",
   "metadata": {},
   "outputs": [],
   "source": []
  }
 ],
 "metadata": {
  "kernelspec": {
   "display_name": "Python 3 (ipykernel)",
   "language": "python",
   "name": "python3"
  },
  "language_info": {
   "codemirror_mode": {
    "name": "ipython",
    "version": 3
   },
   "file_extension": ".py",
   "mimetype": "text/x-python",
   "name": "python",
   "nbconvert_exporter": "python",
   "pygments_lexer": "ipython3",
   "version": "3.13.0"
  }
 },
 "nbformat": 4,
 "nbformat_minor": 5
}
